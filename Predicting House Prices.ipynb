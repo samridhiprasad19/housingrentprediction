{
 "cells": [
  {
   "cell_type": "markdown",
   "metadata": {},
   "source": [
    "# Fire Up GraphLab Create"
   ]
  },
  {
   "cell_type": "code",
   "execution_count": 2,
   "metadata": {
    "collapsed": true
   },
   "outputs": [],
   "source": [
    "import graphlab"
   ]
  },
  {
   "cell_type": "markdown",
   "metadata": {},
   "source": [
    "# Load Some House Sales Data"
   ]
  },
  {
   "cell_type": "code",
   "execution_count": 3,
   "metadata": {
    "collapsed": false
   },
   "outputs": [
    {
     "name": "stdout",
     "output_type": "stream",
     "text": [
      "This non-commercial license of GraphLab Create for academic use is assigned to samridhiprasad19@gmail.com and will expire on May 10, 2021.\n"
     ]
    },
    {
     "name": "stderr",
     "output_type": "stream",
     "text": [
      "[INFO] graphlab.cython.cy_server: GraphLab Create v2.1 started. Logging: C:\\Users\\SAMRID~1\\AppData\\Local\\Temp\\graphlab_server_1590162849.log.0\n"
     ]
    }
   ],
   "source": [
    "sales = graphlab.SFrame('home_data.sframe')"
   ]
  },
  {
   "cell_type": "code",
   "execution_count": 4,
   "metadata": {
    "collapsed": false
   },
   "outputs": [
    {
     "data": {
      "text/html": [
       "<div style=\"max-height:1000px;max-width:1500px;overflow:auto;\"><table frame=\"box\" rules=\"cols\">\n",
       "    <tr>\n",
       "        <th style=\"padding-left: 1em; padding-right: 1em; text-align: center\">id</th>\n",
       "        <th style=\"padding-left: 1em; padding-right: 1em; text-align: center\">date</th>\n",
       "        <th style=\"padding-left: 1em; padding-right: 1em; text-align: center\">price</th>\n",
       "        <th style=\"padding-left: 1em; padding-right: 1em; text-align: center\">bedrooms</th>\n",
       "        <th style=\"padding-left: 1em; padding-right: 1em; text-align: center\">bathrooms</th>\n",
       "        <th style=\"padding-left: 1em; padding-right: 1em; text-align: center\">sqft_living</th>\n",
       "        <th style=\"padding-left: 1em; padding-right: 1em; text-align: center\">sqft_lot</th>\n",
       "        <th style=\"padding-left: 1em; padding-right: 1em; text-align: center\">floors</th>\n",
       "        <th style=\"padding-left: 1em; padding-right: 1em; text-align: center\">waterfront</th>\n",
       "    </tr>\n",
       "    <tr>\n",
       "        <td style=\"padding-left: 1em; padding-right: 1em; text-align: center; vertical-align: top\">7129300520</td>\n",
       "        <td style=\"padding-left: 1em; padding-right: 1em; text-align: center; vertical-align: top\">2014-10-13 00:00:00+00:00</td>\n",
       "        <td style=\"padding-left: 1em; padding-right: 1em; text-align: center; vertical-align: top\">221900.0</td>\n",
       "        <td style=\"padding-left: 1em; padding-right: 1em; text-align: center; vertical-align: top\">3.0</td>\n",
       "        <td style=\"padding-left: 1em; padding-right: 1em; text-align: center; vertical-align: top\">1.0</td>\n",
       "        <td style=\"padding-left: 1em; padding-right: 1em; text-align: center; vertical-align: top\">1180.0</td>\n",
       "        <td style=\"padding-left: 1em; padding-right: 1em; text-align: center; vertical-align: top\">5650.0</td>\n",
       "        <td style=\"padding-left: 1em; padding-right: 1em; text-align: center; vertical-align: top\">1.0</td>\n",
       "        <td style=\"padding-left: 1em; padding-right: 1em; text-align: center; vertical-align: top\">0</td>\n",
       "    </tr>\n",
       "    <tr>\n",
       "        <td style=\"padding-left: 1em; padding-right: 1em; text-align: center; vertical-align: top\">6414100192</td>\n",
       "        <td style=\"padding-left: 1em; padding-right: 1em; text-align: center; vertical-align: top\">2014-12-09 00:00:00+00:00</td>\n",
       "        <td style=\"padding-left: 1em; padding-right: 1em; text-align: center; vertical-align: top\">538000.0</td>\n",
       "        <td style=\"padding-left: 1em; padding-right: 1em; text-align: center; vertical-align: top\">3.0</td>\n",
       "        <td style=\"padding-left: 1em; padding-right: 1em; text-align: center; vertical-align: top\">2.25</td>\n",
       "        <td style=\"padding-left: 1em; padding-right: 1em; text-align: center; vertical-align: top\">2570.0</td>\n",
       "        <td style=\"padding-left: 1em; padding-right: 1em; text-align: center; vertical-align: top\">7242.0</td>\n",
       "        <td style=\"padding-left: 1em; padding-right: 1em; text-align: center; vertical-align: top\">2.0</td>\n",
       "        <td style=\"padding-left: 1em; padding-right: 1em; text-align: center; vertical-align: top\">0</td>\n",
       "    </tr>\n",
       "    <tr>\n",
       "        <td style=\"padding-left: 1em; padding-right: 1em; text-align: center; vertical-align: top\">5631500400</td>\n",
       "        <td style=\"padding-left: 1em; padding-right: 1em; text-align: center; vertical-align: top\">2015-02-25 00:00:00+00:00</td>\n",
       "        <td style=\"padding-left: 1em; padding-right: 1em; text-align: center; vertical-align: top\">180000.0</td>\n",
       "        <td style=\"padding-left: 1em; padding-right: 1em; text-align: center; vertical-align: top\">2.0</td>\n",
       "        <td style=\"padding-left: 1em; padding-right: 1em; text-align: center; vertical-align: top\">1.0</td>\n",
       "        <td style=\"padding-left: 1em; padding-right: 1em; text-align: center; vertical-align: top\">770.0</td>\n",
       "        <td style=\"padding-left: 1em; padding-right: 1em; text-align: center; vertical-align: top\">10000.0</td>\n",
       "        <td style=\"padding-left: 1em; padding-right: 1em; text-align: center; vertical-align: top\">1.0</td>\n",
       "        <td style=\"padding-left: 1em; padding-right: 1em; text-align: center; vertical-align: top\">0</td>\n",
       "    </tr>\n",
       "    <tr>\n",
       "        <td style=\"padding-left: 1em; padding-right: 1em; text-align: center; vertical-align: top\">2487200875</td>\n",
       "        <td style=\"padding-left: 1em; padding-right: 1em; text-align: center; vertical-align: top\">2014-12-09 00:00:00+00:00</td>\n",
       "        <td style=\"padding-left: 1em; padding-right: 1em; text-align: center; vertical-align: top\">604000.0</td>\n",
       "        <td style=\"padding-left: 1em; padding-right: 1em; text-align: center; vertical-align: top\">4.0</td>\n",
       "        <td style=\"padding-left: 1em; padding-right: 1em; text-align: center; vertical-align: top\">3.0</td>\n",
       "        <td style=\"padding-left: 1em; padding-right: 1em; text-align: center; vertical-align: top\">1960.0</td>\n",
       "        <td style=\"padding-left: 1em; padding-right: 1em; text-align: center; vertical-align: top\">5000.0</td>\n",
       "        <td style=\"padding-left: 1em; padding-right: 1em; text-align: center; vertical-align: top\">1.0</td>\n",
       "        <td style=\"padding-left: 1em; padding-right: 1em; text-align: center; vertical-align: top\">0</td>\n",
       "    </tr>\n",
       "    <tr>\n",
       "        <td style=\"padding-left: 1em; padding-right: 1em; text-align: center; vertical-align: top\">1954400510</td>\n",
       "        <td style=\"padding-left: 1em; padding-right: 1em; text-align: center; vertical-align: top\">2015-02-18 00:00:00+00:00</td>\n",
       "        <td style=\"padding-left: 1em; padding-right: 1em; text-align: center; vertical-align: top\">510000.0</td>\n",
       "        <td style=\"padding-left: 1em; padding-right: 1em; text-align: center; vertical-align: top\">3.0</td>\n",
       "        <td style=\"padding-left: 1em; padding-right: 1em; text-align: center; vertical-align: top\">2.0</td>\n",
       "        <td style=\"padding-left: 1em; padding-right: 1em; text-align: center; vertical-align: top\">1680.0</td>\n",
       "        <td style=\"padding-left: 1em; padding-right: 1em; text-align: center; vertical-align: top\">8080.0</td>\n",
       "        <td style=\"padding-left: 1em; padding-right: 1em; text-align: center; vertical-align: top\">1.0</td>\n",
       "        <td style=\"padding-left: 1em; padding-right: 1em; text-align: center; vertical-align: top\">0</td>\n",
       "    </tr>\n",
       "    <tr>\n",
       "        <td style=\"padding-left: 1em; padding-right: 1em; text-align: center; vertical-align: top\">7237550310</td>\n",
       "        <td style=\"padding-left: 1em; padding-right: 1em; text-align: center; vertical-align: top\">2014-05-12 00:00:00+00:00</td>\n",
       "        <td style=\"padding-left: 1em; padding-right: 1em; text-align: center; vertical-align: top\">1225000.0</td>\n",
       "        <td style=\"padding-left: 1em; padding-right: 1em; text-align: center; vertical-align: top\">4.0</td>\n",
       "        <td style=\"padding-left: 1em; padding-right: 1em; text-align: center; vertical-align: top\">4.5</td>\n",
       "        <td style=\"padding-left: 1em; padding-right: 1em; text-align: center; vertical-align: top\">5420.0</td>\n",
       "        <td style=\"padding-left: 1em; padding-right: 1em; text-align: center; vertical-align: top\">101930.0</td>\n",
       "        <td style=\"padding-left: 1em; padding-right: 1em; text-align: center; vertical-align: top\">1.0</td>\n",
       "        <td style=\"padding-left: 1em; padding-right: 1em; text-align: center; vertical-align: top\">0</td>\n",
       "    </tr>\n",
       "    <tr>\n",
       "        <td style=\"padding-left: 1em; padding-right: 1em; text-align: center; vertical-align: top\">1321400060</td>\n",
       "        <td style=\"padding-left: 1em; padding-right: 1em; text-align: center; vertical-align: top\">2014-06-27 00:00:00+00:00</td>\n",
       "        <td style=\"padding-left: 1em; padding-right: 1em; text-align: center; vertical-align: top\">257500.0</td>\n",
       "        <td style=\"padding-left: 1em; padding-right: 1em; text-align: center; vertical-align: top\">3.0</td>\n",
       "        <td style=\"padding-left: 1em; padding-right: 1em; text-align: center; vertical-align: top\">2.25</td>\n",
       "        <td style=\"padding-left: 1em; padding-right: 1em; text-align: center; vertical-align: top\">1715.0</td>\n",
       "        <td style=\"padding-left: 1em; padding-right: 1em; text-align: center; vertical-align: top\">6819.0</td>\n",
       "        <td style=\"padding-left: 1em; padding-right: 1em; text-align: center; vertical-align: top\">2.0</td>\n",
       "        <td style=\"padding-left: 1em; padding-right: 1em; text-align: center; vertical-align: top\">0</td>\n",
       "    </tr>\n",
       "    <tr>\n",
       "        <td style=\"padding-left: 1em; padding-right: 1em; text-align: center; vertical-align: top\">2008000270</td>\n",
       "        <td style=\"padding-left: 1em; padding-right: 1em; text-align: center; vertical-align: top\">2015-01-15 00:00:00+00:00</td>\n",
       "        <td style=\"padding-left: 1em; padding-right: 1em; text-align: center; vertical-align: top\">291850.0</td>\n",
       "        <td style=\"padding-left: 1em; padding-right: 1em; text-align: center; vertical-align: top\">3.0</td>\n",
       "        <td style=\"padding-left: 1em; padding-right: 1em; text-align: center; vertical-align: top\">1.5</td>\n",
       "        <td style=\"padding-left: 1em; padding-right: 1em; text-align: center; vertical-align: top\">1060.0</td>\n",
       "        <td style=\"padding-left: 1em; padding-right: 1em; text-align: center; vertical-align: top\">9711.0</td>\n",
       "        <td style=\"padding-left: 1em; padding-right: 1em; text-align: center; vertical-align: top\">1.0</td>\n",
       "        <td style=\"padding-left: 1em; padding-right: 1em; text-align: center; vertical-align: top\">0</td>\n",
       "    </tr>\n",
       "    <tr>\n",
       "        <td style=\"padding-left: 1em; padding-right: 1em; text-align: center; vertical-align: top\">2414600126</td>\n",
       "        <td style=\"padding-left: 1em; padding-right: 1em; text-align: center; vertical-align: top\">2015-04-15 00:00:00+00:00</td>\n",
       "        <td style=\"padding-left: 1em; padding-right: 1em; text-align: center; vertical-align: top\">229500.0</td>\n",
       "        <td style=\"padding-left: 1em; padding-right: 1em; text-align: center; vertical-align: top\">3.0</td>\n",
       "        <td style=\"padding-left: 1em; padding-right: 1em; text-align: center; vertical-align: top\">1.0</td>\n",
       "        <td style=\"padding-left: 1em; padding-right: 1em; text-align: center; vertical-align: top\">1780.0</td>\n",
       "        <td style=\"padding-left: 1em; padding-right: 1em; text-align: center; vertical-align: top\">7470.0</td>\n",
       "        <td style=\"padding-left: 1em; padding-right: 1em; text-align: center; vertical-align: top\">1.0</td>\n",
       "        <td style=\"padding-left: 1em; padding-right: 1em; text-align: center; vertical-align: top\">0</td>\n",
       "    </tr>\n",
       "    <tr>\n",
       "        <td style=\"padding-left: 1em; padding-right: 1em; text-align: center; vertical-align: top\">3793500160</td>\n",
       "        <td style=\"padding-left: 1em; padding-right: 1em; text-align: center; vertical-align: top\">2015-03-12 00:00:00+00:00</td>\n",
       "        <td style=\"padding-left: 1em; padding-right: 1em; text-align: center; vertical-align: top\">323000.0</td>\n",
       "        <td style=\"padding-left: 1em; padding-right: 1em; text-align: center; vertical-align: top\">3.0</td>\n",
       "        <td style=\"padding-left: 1em; padding-right: 1em; text-align: center; vertical-align: top\">2.5</td>\n",
       "        <td style=\"padding-left: 1em; padding-right: 1em; text-align: center; vertical-align: top\">1890.0</td>\n",
       "        <td style=\"padding-left: 1em; padding-right: 1em; text-align: center; vertical-align: top\">6560.0</td>\n",
       "        <td style=\"padding-left: 1em; padding-right: 1em; text-align: center; vertical-align: top\">2.0</td>\n",
       "        <td style=\"padding-left: 1em; padding-right: 1em; text-align: center; vertical-align: top\">0</td>\n",
       "    </tr>\n",
       "</table>\n",
       "<table frame=\"box\" rules=\"cols\">\n",
       "    <tr>\n",
       "        <th style=\"padding-left: 1em; padding-right: 1em; text-align: center\">view</th>\n",
       "        <th style=\"padding-left: 1em; padding-right: 1em; text-align: center\">condition</th>\n",
       "        <th style=\"padding-left: 1em; padding-right: 1em; text-align: center\">grade</th>\n",
       "        <th style=\"padding-left: 1em; padding-right: 1em; text-align: center\">sqft_above</th>\n",
       "        <th style=\"padding-left: 1em; padding-right: 1em; text-align: center\">sqft_basement</th>\n",
       "        <th style=\"padding-left: 1em; padding-right: 1em; text-align: center\">yr_built</th>\n",
       "        <th style=\"padding-left: 1em; padding-right: 1em; text-align: center\">yr_renovated</th>\n",
       "        <th style=\"padding-left: 1em; padding-right: 1em; text-align: center\">zipcode</th>\n",
       "        <th style=\"padding-left: 1em; padding-right: 1em; text-align: center\">lat</th>\n",
       "    </tr>\n",
       "    <tr>\n",
       "        <td style=\"padding-left: 1em; padding-right: 1em; text-align: center; vertical-align: top\">0</td>\n",
       "        <td style=\"padding-left: 1em; padding-right: 1em; text-align: center; vertical-align: top\">3</td>\n",
       "        <td style=\"padding-left: 1em; padding-right: 1em; text-align: center; vertical-align: top\">7.0</td>\n",
       "        <td style=\"padding-left: 1em; padding-right: 1em; text-align: center; vertical-align: top\">1180.0</td>\n",
       "        <td style=\"padding-left: 1em; padding-right: 1em; text-align: center; vertical-align: top\">0.0</td>\n",
       "        <td style=\"padding-left: 1em; padding-right: 1em; text-align: center; vertical-align: top\">1955.0</td>\n",
       "        <td style=\"padding-left: 1em; padding-right: 1em; text-align: center; vertical-align: top\">0.0</td>\n",
       "        <td style=\"padding-left: 1em; padding-right: 1em; text-align: center; vertical-align: top\">98178</td>\n",
       "        <td style=\"padding-left: 1em; padding-right: 1em; text-align: center; vertical-align: top\">47.51123398</td>\n",
       "    </tr>\n",
       "    <tr>\n",
       "        <td style=\"padding-left: 1em; padding-right: 1em; text-align: center; vertical-align: top\">0</td>\n",
       "        <td style=\"padding-left: 1em; padding-right: 1em; text-align: center; vertical-align: top\">3</td>\n",
       "        <td style=\"padding-left: 1em; padding-right: 1em; text-align: center; vertical-align: top\">7.0</td>\n",
       "        <td style=\"padding-left: 1em; padding-right: 1em; text-align: center; vertical-align: top\">2170.0</td>\n",
       "        <td style=\"padding-left: 1em; padding-right: 1em; text-align: center; vertical-align: top\">400.0</td>\n",
       "        <td style=\"padding-left: 1em; padding-right: 1em; text-align: center; vertical-align: top\">1951.0</td>\n",
       "        <td style=\"padding-left: 1em; padding-right: 1em; text-align: center; vertical-align: top\">1991.0</td>\n",
       "        <td style=\"padding-left: 1em; padding-right: 1em; text-align: center; vertical-align: top\">98125</td>\n",
       "        <td style=\"padding-left: 1em; padding-right: 1em; text-align: center; vertical-align: top\">47.72102274</td>\n",
       "    </tr>\n",
       "    <tr>\n",
       "        <td style=\"padding-left: 1em; padding-right: 1em; text-align: center; vertical-align: top\">0</td>\n",
       "        <td style=\"padding-left: 1em; padding-right: 1em; text-align: center; vertical-align: top\">3</td>\n",
       "        <td style=\"padding-left: 1em; padding-right: 1em; text-align: center; vertical-align: top\">6.0</td>\n",
       "        <td style=\"padding-left: 1em; padding-right: 1em; text-align: center; vertical-align: top\">770.0</td>\n",
       "        <td style=\"padding-left: 1em; padding-right: 1em; text-align: center; vertical-align: top\">0.0</td>\n",
       "        <td style=\"padding-left: 1em; padding-right: 1em; text-align: center; vertical-align: top\">1933.0</td>\n",
       "        <td style=\"padding-left: 1em; padding-right: 1em; text-align: center; vertical-align: top\">0.0</td>\n",
       "        <td style=\"padding-left: 1em; padding-right: 1em; text-align: center; vertical-align: top\">98028</td>\n",
       "        <td style=\"padding-left: 1em; padding-right: 1em; text-align: center; vertical-align: top\">47.73792661</td>\n",
       "    </tr>\n",
       "    <tr>\n",
       "        <td style=\"padding-left: 1em; padding-right: 1em; text-align: center; vertical-align: top\">0</td>\n",
       "        <td style=\"padding-left: 1em; padding-right: 1em; text-align: center; vertical-align: top\">5</td>\n",
       "        <td style=\"padding-left: 1em; padding-right: 1em; text-align: center; vertical-align: top\">7.0</td>\n",
       "        <td style=\"padding-left: 1em; padding-right: 1em; text-align: center; vertical-align: top\">1050.0</td>\n",
       "        <td style=\"padding-left: 1em; padding-right: 1em; text-align: center; vertical-align: top\">910.0</td>\n",
       "        <td style=\"padding-left: 1em; padding-right: 1em; text-align: center; vertical-align: top\">1965.0</td>\n",
       "        <td style=\"padding-left: 1em; padding-right: 1em; text-align: center; vertical-align: top\">0.0</td>\n",
       "        <td style=\"padding-left: 1em; padding-right: 1em; text-align: center; vertical-align: top\">98136</td>\n",
       "        <td style=\"padding-left: 1em; padding-right: 1em; text-align: center; vertical-align: top\">47.52082</td>\n",
       "    </tr>\n",
       "    <tr>\n",
       "        <td style=\"padding-left: 1em; padding-right: 1em; text-align: center; vertical-align: top\">0</td>\n",
       "        <td style=\"padding-left: 1em; padding-right: 1em; text-align: center; vertical-align: top\">3</td>\n",
       "        <td style=\"padding-left: 1em; padding-right: 1em; text-align: center; vertical-align: top\">8.0</td>\n",
       "        <td style=\"padding-left: 1em; padding-right: 1em; text-align: center; vertical-align: top\">1680.0</td>\n",
       "        <td style=\"padding-left: 1em; padding-right: 1em; text-align: center; vertical-align: top\">0.0</td>\n",
       "        <td style=\"padding-left: 1em; padding-right: 1em; text-align: center; vertical-align: top\">1987.0</td>\n",
       "        <td style=\"padding-left: 1em; padding-right: 1em; text-align: center; vertical-align: top\">0.0</td>\n",
       "        <td style=\"padding-left: 1em; padding-right: 1em; text-align: center; vertical-align: top\">98074</td>\n",
       "        <td style=\"padding-left: 1em; padding-right: 1em; text-align: center; vertical-align: top\">47.61681228</td>\n",
       "    </tr>\n",
       "    <tr>\n",
       "        <td style=\"padding-left: 1em; padding-right: 1em; text-align: center; vertical-align: top\">0</td>\n",
       "        <td style=\"padding-left: 1em; padding-right: 1em; text-align: center; vertical-align: top\">3</td>\n",
       "        <td style=\"padding-left: 1em; padding-right: 1em; text-align: center; vertical-align: top\">11.0</td>\n",
       "        <td style=\"padding-left: 1em; padding-right: 1em; text-align: center; vertical-align: top\">3890.0</td>\n",
       "        <td style=\"padding-left: 1em; padding-right: 1em; text-align: center; vertical-align: top\">1530.0</td>\n",
       "        <td style=\"padding-left: 1em; padding-right: 1em; text-align: center; vertical-align: top\">2001.0</td>\n",
       "        <td style=\"padding-left: 1em; padding-right: 1em; text-align: center; vertical-align: top\">0.0</td>\n",
       "        <td style=\"padding-left: 1em; padding-right: 1em; text-align: center; vertical-align: top\">98053</td>\n",
       "        <td style=\"padding-left: 1em; padding-right: 1em; text-align: center; vertical-align: top\">47.65611835</td>\n",
       "    </tr>\n",
       "    <tr>\n",
       "        <td style=\"padding-left: 1em; padding-right: 1em; text-align: center; vertical-align: top\">0</td>\n",
       "        <td style=\"padding-left: 1em; padding-right: 1em; text-align: center; vertical-align: top\">3</td>\n",
       "        <td style=\"padding-left: 1em; padding-right: 1em; text-align: center; vertical-align: top\">7.0</td>\n",
       "        <td style=\"padding-left: 1em; padding-right: 1em; text-align: center; vertical-align: top\">1715.0</td>\n",
       "        <td style=\"padding-left: 1em; padding-right: 1em; text-align: center; vertical-align: top\">0.0</td>\n",
       "        <td style=\"padding-left: 1em; padding-right: 1em; text-align: center; vertical-align: top\">1995.0</td>\n",
       "        <td style=\"padding-left: 1em; padding-right: 1em; text-align: center; vertical-align: top\">0.0</td>\n",
       "        <td style=\"padding-left: 1em; padding-right: 1em; text-align: center; vertical-align: top\">98003</td>\n",
       "        <td style=\"padding-left: 1em; padding-right: 1em; text-align: center; vertical-align: top\">47.30972002</td>\n",
       "    </tr>\n",
       "    <tr>\n",
       "        <td style=\"padding-left: 1em; padding-right: 1em; text-align: center; vertical-align: top\">0</td>\n",
       "        <td style=\"padding-left: 1em; padding-right: 1em; text-align: center; vertical-align: top\">3</td>\n",
       "        <td style=\"padding-left: 1em; padding-right: 1em; text-align: center; vertical-align: top\">7.0</td>\n",
       "        <td style=\"padding-left: 1em; padding-right: 1em; text-align: center; vertical-align: top\">1060.0</td>\n",
       "        <td style=\"padding-left: 1em; padding-right: 1em; text-align: center; vertical-align: top\">0.0</td>\n",
       "        <td style=\"padding-left: 1em; padding-right: 1em; text-align: center; vertical-align: top\">1963.0</td>\n",
       "        <td style=\"padding-left: 1em; padding-right: 1em; text-align: center; vertical-align: top\">0.0</td>\n",
       "        <td style=\"padding-left: 1em; padding-right: 1em; text-align: center; vertical-align: top\">98198</td>\n",
       "        <td style=\"padding-left: 1em; padding-right: 1em; text-align: center; vertical-align: top\">47.40949984</td>\n",
       "    </tr>\n",
       "    <tr>\n",
       "        <td style=\"padding-left: 1em; padding-right: 1em; text-align: center; vertical-align: top\">0</td>\n",
       "        <td style=\"padding-left: 1em; padding-right: 1em; text-align: center; vertical-align: top\">3</td>\n",
       "        <td style=\"padding-left: 1em; padding-right: 1em; text-align: center; vertical-align: top\">7.0</td>\n",
       "        <td style=\"padding-left: 1em; padding-right: 1em; text-align: center; vertical-align: top\">1050.0</td>\n",
       "        <td style=\"padding-left: 1em; padding-right: 1em; text-align: center; vertical-align: top\">730.0</td>\n",
       "        <td style=\"padding-left: 1em; padding-right: 1em; text-align: center; vertical-align: top\">1960.0</td>\n",
       "        <td style=\"padding-left: 1em; padding-right: 1em; text-align: center; vertical-align: top\">0.0</td>\n",
       "        <td style=\"padding-left: 1em; padding-right: 1em; text-align: center; vertical-align: top\">98146</td>\n",
       "        <td style=\"padding-left: 1em; padding-right: 1em; text-align: center; vertical-align: top\">47.51229381</td>\n",
       "    </tr>\n",
       "    <tr>\n",
       "        <td style=\"padding-left: 1em; padding-right: 1em; text-align: center; vertical-align: top\">0</td>\n",
       "        <td style=\"padding-left: 1em; padding-right: 1em; text-align: center; vertical-align: top\">3</td>\n",
       "        <td style=\"padding-left: 1em; padding-right: 1em; text-align: center; vertical-align: top\">7.0</td>\n",
       "        <td style=\"padding-left: 1em; padding-right: 1em; text-align: center; vertical-align: top\">1890.0</td>\n",
       "        <td style=\"padding-left: 1em; padding-right: 1em; text-align: center; vertical-align: top\">0.0</td>\n",
       "        <td style=\"padding-left: 1em; padding-right: 1em; text-align: center; vertical-align: top\">2003.0</td>\n",
       "        <td style=\"padding-left: 1em; padding-right: 1em; text-align: center; vertical-align: top\">0.0</td>\n",
       "        <td style=\"padding-left: 1em; padding-right: 1em; text-align: center; vertical-align: top\">98038</td>\n",
       "        <td style=\"padding-left: 1em; padding-right: 1em; text-align: center; vertical-align: top\">47.36840673</td>\n",
       "    </tr>\n",
       "</table>\n",
       "<table frame=\"box\" rules=\"cols\">\n",
       "    <tr>\n",
       "        <th style=\"padding-left: 1em; padding-right: 1em; text-align: center\">long</th>\n",
       "        <th style=\"padding-left: 1em; padding-right: 1em; text-align: center\">sqft_living15</th>\n",
       "        <th style=\"padding-left: 1em; padding-right: 1em; text-align: center\">sqft_lot15</th>\n",
       "    </tr>\n",
       "    <tr>\n",
       "        <td style=\"padding-left: 1em; padding-right: 1em; text-align: center; vertical-align: top\">-122.25677536</td>\n",
       "        <td style=\"padding-left: 1em; padding-right: 1em; text-align: center; vertical-align: top\">1340.0</td>\n",
       "        <td style=\"padding-left: 1em; padding-right: 1em; text-align: center; vertical-align: top\">5650.0</td>\n",
       "    </tr>\n",
       "    <tr>\n",
       "        <td style=\"padding-left: 1em; padding-right: 1em; text-align: center; vertical-align: top\">-122.3188624</td>\n",
       "        <td style=\"padding-left: 1em; padding-right: 1em; text-align: center; vertical-align: top\">1690.0</td>\n",
       "        <td style=\"padding-left: 1em; padding-right: 1em; text-align: center; vertical-align: top\">7639.0</td>\n",
       "    </tr>\n",
       "    <tr>\n",
       "        <td style=\"padding-left: 1em; padding-right: 1em; text-align: center; vertical-align: top\">-122.23319601</td>\n",
       "        <td style=\"padding-left: 1em; padding-right: 1em; text-align: center; vertical-align: top\">2720.0</td>\n",
       "        <td style=\"padding-left: 1em; padding-right: 1em; text-align: center; vertical-align: top\">8062.0</td>\n",
       "    </tr>\n",
       "    <tr>\n",
       "        <td style=\"padding-left: 1em; padding-right: 1em; text-align: center; vertical-align: top\">-122.39318505</td>\n",
       "        <td style=\"padding-left: 1em; padding-right: 1em; text-align: center; vertical-align: top\">1360.0</td>\n",
       "        <td style=\"padding-left: 1em; padding-right: 1em; text-align: center; vertical-align: top\">5000.0</td>\n",
       "    </tr>\n",
       "    <tr>\n",
       "        <td style=\"padding-left: 1em; padding-right: 1em; text-align: center; vertical-align: top\">-122.04490059</td>\n",
       "        <td style=\"padding-left: 1em; padding-right: 1em; text-align: center; vertical-align: top\">1800.0</td>\n",
       "        <td style=\"padding-left: 1em; padding-right: 1em; text-align: center; vertical-align: top\">7503.0</td>\n",
       "    </tr>\n",
       "    <tr>\n",
       "        <td style=\"padding-left: 1em; padding-right: 1em; text-align: center; vertical-align: top\">-122.00528655</td>\n",
       "        <td style=\"padding-left: 1em; padding-right: 1em; text-align: center; vertical-align: top\">4760.0</td>\n",
       "        <td style=\"padding-left: 1em; padding-right: 1em; text-align: center; vertical-align: top\">101930.0</td>\n",
       "    </tr>\n",
       "    <tr>\n",
       "        <td style=\"padding-left: 1em; padding-right: 1em; text-align: center; vertical-align: top\">-122.32704857</td>\n",
       "        <td style=\"padding-left: 1em; padding-right: 1em; text-align: center; vertical-align: top\">2238.0</td>\n",
       "        <td style=\"padding-left: 1em; padding-right: 1em; text-align: center; vertical-align: top\">6819.0</td>\n",
       "    </tr>\n",
       "    <tr>\n",
       "        <td style=\"padding-left: 1em; padding-right: 1em; text-align: center; vertical-align: top\">-122.31457273</td>\n",
       "        <td style=\"padding-left: 1em; padding-right: 1em; text-align: center; vertical-align: top\">1650.0</td>\n",
       "        <td style=\"padding-left: 1em; padding-right: 1em; text-align: center; vertical-align: top\">9711.0</td>\n",
       "    </tr>\n",
       "    <tr>\n",
       "        <td style=\"padding-left: 1em; padding-right: 1em; text-align: center; vertical-align: top\">-122.33659507</td>\n",
       "        <td style=\"padding-left: 1em; padding-right: 1em; text-align: center; vertical-align: top\">1780.0</td>\n",
       "        <td style=\"padding-left: 1em; padding-right: 1em; text-align: center; vertical-align: top\">8113.0</td>\n",
       "    </tr>\n",
       "    <tr>\n",
       "        <td style=\"padding-left: 1em; padding-right: 1em; text-align: center; vertical-align: top\">-122.0308176</td>\n",
       "        <td style=\"padding-left: 1em; padding-right: 1em; text-align: center; vertical-align: top\">2390.0</td>\n",
       "        <td style=\"padding-left: 1em; padding-right: 1em; text-align: center; vertical-align: top\">7570.0</td>\n",
       "    </tr>\n",
       "</table>\n",
       "[21613 rows x 21 columns]<br/>Note: Only the head of the SFrame is printed.<br/>You can use print_rows(num_rows=m, num_columns=n) to print more rows and columns.\n",
       "</div>"
      ],
      "text/plain": [
       "Columns:\n",
       "\tid\tstr\n",
       "\tdate\tdatetime\n",
       "\tprice\tfloat\n",
       "\tbedrooms\tfloat\n",
       "\tbathrooms\tfloat\n",
       "\tsqft_living\tfloat\n",
       "\tsqft_lot\tfloat\n",
       "\tfloors\tfloat\n",
       "\twaterfront\tint\n",
       "\tview\tint\n",
       "\tcondition\tint\n",
       "\tgrade\tfloat\n",
       "\tsqft_above\tfloat\n",
       "\tsqft_basement\tfloat\n",
       "\tyr_built\tfloat\n",
       "\tyr_renovated\tfloat\n",
       "\tzipcode\tstr\n",
       "\tlat\tfloat\n",
       "\tlong\tfloat\n",
       "\tsqft_living15\tfloat\n",
       "\tsqft_lot15\tfloat\n",
       "\n",
       "Rows: 21613\n",
       "\n",
       "Data:\n",
       "+------------+---------------------------+-----------+----------+-----------+\n",
       "|     id     |            date           |   price   | bedrooms | bathrooms |\n",
       "+------------+---------------------------+-----------+----------+-----------+\n",
       "| 7129300520 | 2014-10-13 00:00:00+00:00 |  221900.0 |   3.0    |    1.0    |\n",
       "| 6414100192 | 2014-12-09 00:00:00+00:00 |  538000.0 |   3.0    |    2.25   |\n",
       "| 5631500400 | 2015-02-25 00:00:00+00:00 |  180000.0 |   2.0    |    1.0    |\n",
       "| 2487200875 | 2014-12-09 00:00:00+00:00 |  604000.0 |   4.0    |    3.0    |\n",
       "| 1954400510 | 2015-02-18 00:00:00+00:00 |  510000.0 |   3.0    |    2.0    |\n",
       "| 7237550310 | 2014-05-12 00:00:00+00:00 | 1225000.0 |   4.0    |    4.5    |\n",
       "| 1321400060 | 2014-06-27 00:00:00+00:00 |  257500.0 |   3.0    |    2.25   |\n",
       "| 2008000270 | 2015-01-15 00:00:00+00:00 |  291850.0 |   3.0    |    1.5    |\n",
       "| 2414600126 | 2015-04-15 00:00:00+00:00 |  229500.0 |   3.0    |    1.0    |\n",
       "| 3793500160 | 2015-03-12 00:00:00+00:00 |  323000.0 |   3.0    |    2.5    |\n",
       "+------------+---------------------------+-----------+----------+-----------+\n",
       "+-------------+----------+--------+------------+------+-----------+-------+\n",
       "| sqft_living | sqft_lot | floors | waterfront | view | condition | grade |\n",
       "+-------------+----------+--------+------------+------+-----------+-------+\n",
       "|    1180.0   |  5650.0  |  1.0   |     0      |  0   |     3     |  7.0  |\n",
       "|    2570.0   |  7242.0  |  2.0   |     0      |  0   |     3     |  7.0  |\n",
       "|    770.0    | 10000.0  |  1.0   |     0      |  0   |     3     |  6.0  |\n",
       "|    1960.0   |  5000.0  |  1.0   |     0      |  0   |     5     |  7.0  |\n",
       "|    1680.0   |  8080.0  |  1.0   |     0      |  0   |     3     |  8.0  |\n",
       "|    5420.0   | 101930.0 |  1.0   |     0      |  0   |     3     |  11.0 |\n",
       "|    1715.0   |  6819.0  |  2.0   |     0      |  0   |     3     |  7.0  |\n",
       "|    1060.0   |  9711.0  |  1.0   |     0      |  0   |     3     |  7.0  |\n",
       "|    1780.0   |  7470.0  |  1.0   |     0      |  0   |     3     |  7.0  |\n",
       "|    1890.0   |  6560.0  |  2.0   |     0      |  0   |     3     |  7.0  |\n",
       "+-------------+----------+--------+------------+------+-----------+-------+\n",
       "+------------+---------------+----------+--------------+---------+-------------+\n",
       "| sqft_above | sqft_basement | yr_built | yr_renovated | zipcode |     lat     |\n",
       "+------------+---------------+----------+--------------+---------+-------------+\n",
       "|   1180.0   |      0.0      |  1955.0  |     0.0      |  98178  | 47.51123398 |\n",
       "|   2170.0   |     400.0     |  1951.0  |    1991.0    |  98125  | 47.72102274 |\n",
       "|   770.0    |      0.0      |  1933.0  |     0.0      |  98028  | 47.73792661 |\n",
       "|   1050.0   |     910.0     |  1965.0  |     0.0      |  98136  |   47.52082  |\n",
       "|   1680.0   |      0.0      |  1987.0  |     0.0      |  98074  | 47.61681228 |\n",
       "|   3890.0   |     1530.0    |  2001.0  |     0.0      |  98053  | 47.65611835 |\n",
       "|   1715.0   |      0.0      |  1995.0  |     0.0      |  98003  | 47.30972002 |\n",
       "|   1060.0   |      0.0      |  1963.0  |     0.0      |  98198  | 47.40949984 |\n",
       "|   1050.0   |     730.0     |  1960.0  |     0.0      |  98146  | 47.51229381 |\n",
       "|   1890.0   |      0.0      |  2003.0  |     0.0      |  98038  | 47.36840673 |\n",
       "+------------+---------------+----------+--------------+---------+-------------+\n",
       "+---------------+---------------+-----+\n",
       "|      long     | sqft_living15 | ... |\n",
       "+---------------+---------------+-----+\n",
       "| -122.25677536 |     1340.0    | ... |\n",
       "|  -122.3188624 |     1690.0    | ... |\n",
       "| -122.23319601 |     2720.0    | ... |\n",
       "| -122.39318505 |     1360.0    | ... |\n",
       "| -122.04490059 |     1800.0    | ... |\n",
       "| -122.00528655 |     4760.0    | ... |\n",
       "| -122.32704857 |     2238.0    | ... |\n",
       "| -122.31457273 |     1650.0    | ... |\n",
       "| -122.33659507 |     1780.0    | ... |\n",
       "|  -122.0308176 |     2390.0    | ... |\n",
       "+---------------+---------------+-----+\n",
       "[21613 rows x 21 columns]\n",
       "Note: Only the head of the SFrame is printed.\n",
       "You can use print_rows(num_rows=m, num_columns=n) to print more rows and columns."
      ]
     },
     "execution_count": 4,
     "metadata": {},
     "output_type": "execute_result"
    }
   ],
   "source": [
    "sales"
   ]
  },
  {
   "cell_type": "markdown",
   "metadata": {},
   "source": [
    "# Exploring the data for housing sales"
   ]
  },
  {
   "cell_type": "code",
   "execution_count": 5,
   "metadata": {
    "collapsed": false,
    "scrolled": true
   },
   "outputs": [
    {
     "data": {
      "application/javascript": [
       "$(\"head\").append($(\"<link/>\").attr({\n",
       "  rel:  \"stylesheet\",\n",
       "  type: \"text/css\",\n",
       "  href: \"//cdnjs.cloudflare.com/ajax/libs/font-awesome/4.1.0/css/font-awesome.min.css\"\n",
       "}));\n",
       "$(\"head\").append($(\"<link/>\").attr({\n",
       "  rel:  \"stylesheet\",\n",
       "  type: \"text/css\",\n",
       "  href: \"https://static.turi.com/products/graphlab-create/2.1/canvas/css/canvas.css\"\n",
       "}));\n",
       "\n",
       "            (function(){\n",
       "\n",
       "                var e = null;\n",
       "                if (typeof element == 'undefined') {\n",
       "                    var scripts = document.getElementsByTagName('script');\n",
       "                    var thisScriptTag = scripts[scripts.length-1];\n",
       "                    var parentDiv = thisScriptTag.parentNode;\n",
       "                    e = document.createElement('div');\n",
       "                    parentDiv.appendChild(e);\n",
       "                } else {\n",
       "                    e = element[0];\n",
       "                }\n",
       "\n",
       "                if (typeof requirejs !== 'undefined') {\n",
       "                    // disable load timeout; ipython_app.js is large and can take a while to load.\n",
       "                    requirejs.config({waitSeconds: 0});\n",
       "                }\n",
       "\n",
       "                require(['https://static.turi.com/products/graphlab-create/2.1/canvas/js/ipython_app.js'], function(IPythonApp){\n",
       "                    var app = new IPythonApp();\n",
       "                    app.attachView('sframe','Plots', {\"selected_variable\": {\"name\": [\"sales\"], \"descriptives\": {\"rows\": 21613, \"columns\": 21}, \"view_component\": \"Plots\", \"view_file\": \"sframe\", \"view_params\": {\"y\": \"price\", \"x\": \"sqft_living\", \"columns\": [\"id\", \"date\", \"price\", \"bedrooms\", \"bathrooms\", \"sqft_living\", \"sqft_lot\", \"floors\", \"waterfront\", \"view\", \"condition\", \"grade\", \"sqft_above\", \"sqft_basement\", \"yr_built\", \"yr_renovated\", \"zipcode\", \"lat\", \"long\", \"sqft_living15\", \"sqft_lot15\"], \"view\": \"Scatter Plot\"}, \"view_components\": [\"Summary\", \"Table\", \"Bar Chart\", \"BoxWhisker Plot\", \"Line Chart\", \"Scatter Plot\", \"Heat Map\", \"Plots\"], \"type\": \"SFrame\", \"columns\": [{\"dtype\": \"str\", \"name\": \"id\"}, {\"dtype\": \"datetime\", \"name\": \"date\"}, {\"dtype\": \"float\", \"name\": \"price\"}, {\"dtype\": \"float\", \"name\": \"bedrooms\"}, {\"dtype\": \"float\", \"name\": \"bathrooms\"}, {\"dtype\": \"float\", \"name\": \"sqft_living\"}, {\"dtype\": \"float\", \"name\": \"sqft_lot\"}, {\"dtype\": \"float\", \"name\": \"floors\"}, {\"dtype\": \"int\", \"name\": \"waterfront\"}, {\"dtype\": \"int\", \"name\": \"view\"}, {\"dtype\": \"int\", \"name\": \"condition\"}, {\"dtype\": \"float\", \"name\": \"grade\"}, {\"dtype\": \"float\", \"name\": \"sqft_above\"}, {\"dtype\": \"float\", \"name\": \"sqft_basement\"}, {\"dtype\": \"float\", \"name\": \"yr_built\"}, {\"dtype\": \"float\", \"name\": \"yr_renovated\"}, {\"dtype\": \"str\", \"name\": \"zipcode\"}, {\"dtype\": \"float\", \"name\": \"lat\"}, {\"dtype\": \"float\", \"name\": \"long\"}, {\"dtype\": \"float\", \"name\": \"sqft_living15\"}, {\"dtype\": \"float\", \"name\": \"sqft_lot15\"}], \"column_identifiers\": [\"bathrooms\", \"sqft_living15\", \"sqft_above\", \"grade\", \"yr_built\", \"price\", \"bedrooms\", \"zipcode\", \"long\", \"id\", \"sqft_lot15\", \"sqft_living\", \"floors\", \"sqft_lot\", \"date\", \"waterfront\", \"sqft_basement\", \"yr_renovated\", \"lat\", \"condition\", \"view\"]}, \"complete\": 1, \"ipython\": true, \"progress\": 1.0, \"data\": [[880.0, 330000.0], [1460.0, 244000.0], [920.0, 530000.0], [1230.0, 440000.0], [1680.0, 510000.0], [1800.0, 625000.0], [900.0, 252500.0], [1640.0, 645000.0], [2370.0, 366000.0], [1860.0, 314950.0], [1010.0, 390000.0], [3590.0, 879000.0], [2810.0, 395000.0], [1370.0, 400000.0], [1370.0, 320000.0], [3500.0, 682500.0], [1620.0, 386000.0], [2120.0, 1000000.0], [1050.0, 375000.0], [1230.0, 400000.0], [970.0, 206000.0], [1040.0, 400000.0], [1400.0, 241500.0], [1788.0, 294400.0], [2890.0, 1570000.0], [3450.0, 905000.0], [860.0, 245000.0], [1610.0, 399950.0], [890.0, 409000.0], [2090.0, 290000.0], [1280.0, 495000.0], [1450.0, 339000.0], [2720.0, 372400.0], [2460.0, 313000.0], [2180.0, 558000.0], [4380.0, 1050000.0], [1370.0, 325000.0], [4590.0, 1135000.0], [1520.0, 386500.0], [1090.0, 440000.0], [1700.0, 437000.0], [1640.0, 207500.0], [2840.0, 339000.0], [2700.0, 935000.0], [860.0, 370000.0], [3740.0, 1080000.0], [2570.0, 715000.0], [1880.0, 452000.0], [1100.0, 480000.0], [1170.0, 499000.0], [3450.0, 685000.0], [1830.0, 452000.0], [1740.0, 380000.0], [1300.0, 205000.0], [3560.0, 851000.0], [2490.0, 654300.0], [3280.0, 671300.0], [3120.0, 1895000.0], [1570.0, 700000.0], [2410.0, 899100.0], [1780.0, 691000.0], [2056.0, 289000.0], [3010.0, 848000.0], [1170.0, 250000.0], [1140.0, 390000.0], [1060.0, 335000.0], [980.0, 393000.0], [820.0, 219500.0], [2120.0, 680000.0], [1200.0, 375000.0], [2670.0, 669950.0], [1000.0, 352500.0], [2750.0, 571000.0], [2720.0, 645000.0], [670.0, 340000.0], [1440.0, 290000.0], [2290.0, 585000.0], [830.0, 385000.0], [1651.0, 285000.0], [1530.0, 635000.0], [2350.0, 390000.0], [2270.0, 575000.0], [1810.0, 615500.0], [3680.0, 1475000.0], [2060.0, 558000.0], [1570.0, 315000.0], [1950.0, 895000.0], [1100.0, 440000.0], [910.0, 299950.0], [1840.0, 185000.0], [2500.0, 808000.0], [2500.0, 368000.0], [950.0, 300000.0], [1520.0, 434900.0], [1380.0, 527500.0], [3630.0, 1563100.0], [1640.0, 561000.0], [2520.0, 525000.0], [1050.0, 219000.0], [1530.0, 230000.0], [1290.0, 331000.0], [950.0, 520000.0], [2600.0, 510000.0], [840.0, 175000.0], [1400.0, 340000.0], [2740.0, 850000.0], [1122.0, 265000.0], [2830.0, 605500.0], [4080.0, 2288000.0], [1930.0, 465000.0], [2240.0, 331210.0], [2780.0, 705000.0], [3370.0, 540000.0], [990.0, 600000.0], [860.0, 199129.0], [1630.0, 490000.0], [1250.0, 235000.0], [1620.0, 260000.0], [1430.0, 305000.0], [1240.0, 699999.0], [1840.0, 639000.0], [1800.0, 579000.0], [4040.0, 1250000.0], [2770.0, 860000.0], [1280.0, 367400.0], [1780.0, 660000.0], [2990.0, 772000.0], [2260.0, 451000.0], [2320.0, 822500.0], [1910.0, 700000.0], [2230.0, 920000.0], [1580.0, 290000.0], [770.0, 257000.0], [1880.0, 326000.0], [1770.0, 270000.0], [2092.0, 390000.0], [2490.0, 370000.0], [5820.0, 784500.0], [1630.0, 541000.0], [1230.0, 205000.0], [3320.0, 852600.0], [1890.0, 618000.0], [1260.0, 210000.0], [1780.0, 509000.0], [860.0, 256000.0], [2260.0, 341780.0], [3790.0, 1600000.0], [2310.0, 646000.0], [3290.0, 595000.0], [2730.0, 760000.0], [910.0, 305000.0], [1340.0, 297000.0], [2500.0, 760000.0], [2450.0, 660000.0], [3930.0, 1093000.0], [1572.0, 299000.0], [1950.0, 525126.0], [2520.0, 770000.0], [1310.0, 229999.0], [960.0, 319000.0], [1410.0, 299950.0], [1330.0, 455000.0], [1480.0, 600000.0], [720.0, 150000.0], [1870.0, 592500.0], [2040.0, 315000.0], [1930.0, 690000.0], [2630.0, 731688.0], [590.0, 202000.0], [4830.0, 1681000.0], [2770.0, 820000.0], [1080.0, 218250.0], [1890.0, 510000.0], [1500.0, 308625.0], [2630.0, 625000.0], [2610.0, 335000.0], [1460.0, 305000.0], [2990.0, 750000.0], [2530.0, 1120275.0], [2790.0, 445000.0], [1990.0, 639000.0], [1350.0, 233000.0], [1690.0, 270000.0], [3470.0, 1727000.0], [3360.0, 738515.0], [4730.0, 3395000.0], [1070.0, 210000.0], [3250.0, 699188.0], [1270.0, 380500.0], [1250.0, 310000.0], [1070.0, 350000.0], [1380.0, 475000.0], [960.0, 395000.0], [2180.0, 400000.0], [1060.0, 230000.0], [2380.0, 340000.0], [3910.0, 782000.0], [1720.0, 460000.0], [2643.0, 376950.0], [1690.0, 372977.0], [3850.0, 1060000.0], [1580.0, 524500.0], [2390.0, 432500.0], [910.0, 165000.0], [2550.0, 375900.0], [1790.0, 541000.0], [1580.0, 349900.0], [1740.0, 435000.0], [1720.0, 950000.0], [1730.0, 249950.0], [2480.0, 489950.0], [1430.0, 335000.0], [1720.0, 340000.0], [2110.0, 525000.0], [1420.0, 345000.0], [2050.0, 601002.0], [2680.0, 445000.0], [3340.0, 808000.0], [1440.0, 255000.0], [1850.0, 645000.0], [1540.0, 485000.0], [1300.0, 312000.0], [1770.0, 455000.0], [2160.0, 475000.0], [2490.0, 270000.0], [1640.0, 440000.0], [1210.0, 222200.0], [1650.0, 665000.0], [1430.0, 235000.0], [1480.0, 516500.0], [1610.0, 390000.0], [1790.0, 197000.0], [3140.0, 946000.0], [1770.0, 420000.0], [580.0, 315000.0], [3250.0, 530000.0], [2800.0, 345600.0], [1670.0, 565000.0], [2820.0, 543200.0], [1610.0, 180000.0], [720.0, 314000.0], [2120.0, 385000.0], [2820.0, 677000.0], [1800.0, 305000.0], [2020.0, 507500.0], [1190.0, 455000.0], [3460.0, 980000.0], [3030.0, 622950.0], [1250.0, 165000.0], [2100.0, 477000.0], [1720.0, 540000.0], [2420.0, 675000.0], [1510.0, 415000.0], [1150.0, 285000.0], [1500.0, 240000.0], [1150.0, 265950.0], [800.0, 440000.0], [1090.0, 158000.0], [2890.0, 515000.0], [2300.0, 308130.0], [1930.0, 570000.0], [1460.0, 400000.0], [2050.0, 550000.0], [1453.0, 460000.0], [1830.0, 740000.0], [2180.0, 273000.0], [1010.0, 183500.0], [1690.0, 399990.0], [2590.0, 779380.0], [1310.0, 306500.0], [1060.0, 826000.0], [2420.0, 411500.0], [2700.0, 680000.0], [2760.0, 765000.0], [1440.0, 456000.0], [950.0, 137000.0], [2840.0, 1145000.0], [1660.0, 270000.0], [2270.0, 560000.0], [2390.0, 405000.0], [3780.0, 962800.0], [2240.0, 455000.0], [1580.0, 485000.0], [1760.0, 554000.0], [2420.0, 330000.0], [2770.0, 890000.0], [860.0, 310000.0], [1240.0, 379900.0], [1190.0, 390000.0], [1780.0, 279000.0], [2180.0, 545000.0], [2880.0, 885000.0], [2160.0, 389900.0], [2700.0, 1260000.0], [2870.0, 540000.0], [1030.0, 365000.0], [1420.0, 335000.0], [2550.0, 645000.0], [2330.0, 550000.0], [1990.0, 335000.0], [1400.0, 240000.0], [2620.0, 815000.0], [1800.0, 416000.0], [1470.0, 290000.0], [1260.0, 216000.0], [4700.0, 1175000.0], [2180.0, 625000.0], [1628.0, 250000.0], [1690.0, 330000.0], [1750.0, 774900.0], [850.0, 132500.0], [1720.0, 432500.0], [2900.0, 354000.0], [2760.0, 745000.0], [4290.0, 1400000.0], [2330.0, 645000.0], [1900.0, 536000.0], [1100.0, 420000.0], [2370.0, 387865.0], [920.0, 412133.0], [3220.0, 800000.0], [2920.0, 795000.0], [2490.0, 475000.0], [2680.0, 777000.0], [1820.0, 539950.0], [1260.0, 650000.0], [2015.0, 988500.0], [1670.0, 520000.0], [2050.0, 495000.0], [3730.0, 595000.0], [1180.0, 450000.0], [1470.0, 546940.0], [1560.0, 275000.0], [1790.0, 485000.0], [990.0, 354000.0], [2510.0, 575000.0], [1840.0, 406500.0], [3400.0, 340000.0], [2380.0, 285000.0], [2170.0, 329900.0], [1810.0, 272000.0], [3390.0, 895000.0], [2570.0, 705000.0], [3150.0, 705000.0], [3560.0, 907687.0], [2550.0, 587000.0], [2540.0, 600000.0], [1530.0, 500000.0], [1450.0, 245000.0], [2290.0, 390000.0], [2650.0, 665000.0], [2990.0, 698000.0], [1380.0, 473000.0], [1630.0, 375000.0], [1550.0, 252000.0], [2010.0, 350000.0], [2310.0, 450000.0], [3100.0, 475000.0], [2010.0, 322200.0], [1380.0, 235000.0], [2040.0, 355000.0], [2540.0, 299000.0], [2500.0, 990000.0], [2910.0, 499950.0], [2490.0, 704000.0], [1870.0, 390000.0], [2130.0, 779000.0], [2060.0, 580000.0], [1950.0, 412000.0], [3240.0, 1199500.0], [2520.0, 590000.0], [1920.0, 352500.0], [960.0, 158800.0], [1640.0, 369950.0], [1330.0, 325000.0], [2160.0, 842500.0], [1650.0, 359000.0], [2610.0, 754950.0], [900.0, 83000.0], [3250.0, 570000.0], [1110.0, 299900.0], [1660.0, 530000.0], [950.0, 475000.0], [1290.0, 255000.0], [3320.0, 1108000.0], [2020.0, 321000.0], [2700.0, 665000.0], [2280.0, 721000.0], [2413.0, 454950.0], [2210.0, 465000.0], [3130.0, 565000.0], [1350.0, 405000.0], [2150.0, 530000.0], [3300.0, 925000.0], [2370.0, 655000.0], [1220.0, 330000.0], [2160.0, 756000.0], [3266.0, 424950.0], [2650.0, 525000.0], [1080.0, 425000.0], [1410.0, 325000.0], [1160.0, 380000.0], [3000.0, 666000.0], [1750.0, 437000.0], [2240.0, 469000.0], [1310.0, 154200.0], [2230.0, 235000.0], [2110.0, 610000.0], [930.0, 200000.0], [3390.0, 775000.0], [1590.0, 290000.0], [1440.0, 292500.0], [2170.0, 250000.0], [2130.0, 610000.0], [3190.0, 495500.0], [1840.0, 327000.0], [2610.0, 368000.0], [3150.0, 700000.0], [4050.0, 925000.0], [2110.0, 747450.0], [2540.0, 374950.0], [1600.0, 625000.0], [3110.0, 1415000.0], [2750.0, 625000.0], [2370.0, 540000.0], [1570.0, 367500.0], [1980.0, 707000.0], [1000.0, 425000.0], [3520.0, 1500000.0], [3000.0, 490500.0], [1770.0, 229500.0], [1270.0, 348000.0], [1340.0, 230000.0], [1610.0, 319000.0], [2000.0, 440000.0], [1740.0, 472000.0], [1440.0, 500000.0], [1260.0, 528000.0], [1680.0, 350000.0], [2300.0, 320000.0], [1540.0, 462500.0], [2940.0, 795000.0], [1840.0, 404000.0], [1420.0, 252000.0], [940.0, 205000.0], [1340.0, 383000.0], [4030.0, 950000.0], [5930.0, 1520000.0], [4000.0, 570000.0], [1300.0, 198000.0], [1300.0, 315000.0], [2910.0, 915000.0], [1320.0, 425000.0], [2210.0, 619500.0], [1010.0, 315000.0], [1010.0, 310000.0], [2520.0, 425000.0], [1460.0, 591000.0], [1490.0, 259000.0], [2190.0, 925000.0], [1480.0, 449250.0], [3730.0, 979700.0], [2250.0, 459900.0], [1570.0, 515000.0], [2520.0, 610000.0], [1640.0, 308000.0], [2180.0, 464000.0], [3420.0, 655000.0], [1480.0, 269950.0], [1880.0, 280000.0], [940.0, 350000.0], [2740.0, 470000.0], [1170.0, 299950.0], [1950.0, 540000.0], [1802.0, 320000.0], [3230.0, 1776000.0], [2110.0, 925000.0], [2220.0, 225000.0], [4280.0, 2050000.0], [1930.0, 390000.0], [3020.0, 530000.0], [1630.0, 395000.0], [2150.0, 279950.0], [1010.0, 215000.0], [3490.0, 1311000.0], [1730.0, 394999.0], [1560.0, 410000.0], [2560.0, 390000.0], [2060.0, 294000.0], [1940.0, 265000.0], [2360.0, 418000.0], [1510.0, 366000.0], [2390.0, 319000.0], [3370.0, 905000.0], [1990.0, 293000.0], [680.0, 275000.0], [790.0, 375000.0], [2010.0, 400000.0], [2110.0, 483000.0], [2370.0, 351000.0], [3180.0, 650000.0], [1350.0, 450000.0], [2780.0, 478000.0], [2430.0, 409950.0], [2100.0, 346000.0], [1510.0, 227000.0], [3090.0, 751000.0], [2040.0, 545000.0], [2500.0, 417000.0], [2270.0, 475000.0], [2150.0, 437400.0], [1840.0, 650000.0], [1680.0, 425000.0], [1660.0, 578000.0], [2470.0, 365000.0], [1680.0, 227000.0], [2890.0, 1100000.0], [3550.0, 2100000.0], [1940.0, 725000.0], [1820.0, 261000.0], [1679.0, 700000.0], [3488.0, 815000.0], [1080.0, 230000.0], [1270.0, 611000.0], [940.0, 275000.0], [2510.0, 490000.0], [2020.0, 345000.0], [1300.0, 315500.0], [2630.0, 430000.0], [2530.0, 720000.0], [4420.0, 1315000.0], [2900.0, 650000.0], [1970.0, 535000.0], [810.0, 505000.0], [1770.0, 255500.0], [2320.0, 260000.0], [1670.0, 450000.0], [1730.0, 357500.0], [2920.0, 500000.0], [1140.0, 172500.0], [3150.0, 854000.0], [1960.0, 325000.0], [1490.0, 258000.0], [1620.0, 514000.0], [880.0, 415000.0], [1520.0, 499950.0], [850.0, 308500.0], [1070.0, 259950.0], [2340.0, 568000.0], [2460.0, 605000.0], [3490.0, 952000.0], [5050.0, 2320000.0], [1450.0, 330000.0], [2680.0, 375000.0], [2570.0, 540000.0], [1440.0, 245000.0], [1930.0, 548050.0], [2110.0, 475300.0], [880.0, 323000.0], [3010.0, 695000.0], [2440.0, 780000.0], [3240.0, 612995.0], [920.0, 589000.0], [1910.0, 250000.0], [1200.0, 231500.0], [1520.0, 447000.0], [2880.0, 780000.0], [2840.0, 292050.0], [1870.0, 299000.0], [1280.0, 425000.0], [2040.0, 726000.0], [1600.0, 785000.0], [1860.0, 265000.0], [1170.0, 275000.0], [1840.0, 540000.0], [1690.0, 390000.0], [1770.0, 415000.0], [2250.0, 287500.0], [1020.0, 450000.0], [1570.0, 439995.0], [730.0, 325000.0], [1730.0, 270000.0], [3030.0, 624500.0], [2120.0, 453000.0], [2480.0, 1387800.0], [2470.0, 515000.0], [2760.0, 602500.0], [3180.0, 900000.0], [1230.0, 229500.0], [1310.0, 575000.0], [1830.0, 505000.0], [1200.0, 225000.0], [1330.0, 310000.0], [1050.0, 194000.0], [2605.0, 599900.0], [1670.0, 612125.0], [2900.0, 968000.0], [3370.0, 595000.0], [2000.0, 570000.0], [990.0, 430000.0], [1950.0, 345100.0], [2090.0, 610000.0], [1880.0, 600000.0], [3370.0, 561000.0], [3320.0, 800000.0], [3660.0, 809950.0], [1480.0, 425000.0], [1600.0, 460000.0], [1212.0, 340000.0], [2080.0, 342500.0], [2250.0, 390000.0], [730.0, 217000.0], [2540.0, 717000.0], [2540.0, 695000.0], [3790.0, 471750.0], [1670.0, 600000.0], [1040.0, 210000.0], [1880.0, 485000.0], [3250.0, 967500.0], [2970.0, 699000.0], [1060.0, 403504.0], [2590.0, 796500.0], [1980.0, 361500.0], [2190.0, 350000.0], [1400.0, 367000.0], [1690.0, 371000.0], [3080.0, 455000.0], [1460.0, 204000.0], [3420.0, 640000.0], [2280.0, 560000.0], [2163.0, 248000.0], [1250.0, 293550.0], [2910.0, 945000.0], [5480.0, 800000.0], [2250.0, 342000.0], [1120.0, 165000.0], [2070.0, 575000.0], [2170.0, 315000.0], [2050.0, 314500.0], [2250.0, 325000.0], [1310.0, 415885.0], [1490.0, 437500.0], [1690.0, 405000.0], [1660.0, 729500.0], [2850.0, 1150000.0], [2300.0, 395000.0], [1230.0, 150000.0], [1940.0, 423000.0], [920.0, 179950.0], [1890.0, 587206.0], [1680.0, 425000.0], [3980.0, 1582500.0], [2440.0, 312000.0], [1690.0, 464000.0], [2680.0, 459990.0], [3050.0, 1030000.0], [540.0, 425000.0], [2960.0, 735000.0], [1880.0, 423000.0], [3330.0, 795000.0], [2910.0, 645000.0], [1470.0, 300000.0], [1870.0, 575000.0], [1210.0, 460000.0], [370.0, 276000.0], [1350.0, 400000.0], [1270.0, 347000.0], [2630.0, 655000.0], [2950.0, 839704.0], [2600.0, 805000.0], [3990.0, 740000.0], [3480.0, 2500000.0], [3580.0, 616500.0], [1370.0, 225000.0], [1580.0, 405100.0], [1600.0, 390000.0], [2030.0, 545000.0], [3450.0, 805000.0], [1530.0, 338000.0], [1530.0, 649000.0], [1440.0, 222000.0], [1700.0, 334950.0], [1010.0, 145000.0], [1430.0, 285000.0], [2550.0, 369000.0], [1490.0, 312500.0], [5270.0, 2600000.0], [2000.0, 1350000.0], [1020.0, 350000.0], [1870.0, 502000.0], [980.0, 352500.0], [1810.0, 299500.0], [2470.0, 359900.0], [2090.0, 405000.0], [1720.0, 439950.0], [1930.0, 285000.0], [750.0, 425000.0], [840.0, 199990.0], [1740.0, 600000.0], [2340.0, 360000.0], [2840.0, 1085000.0], [1300.0, 425000.0], [2060.0, 885000.0], [2110.0, 243500.0], [2330.0, 575000.0], [1080.0, 195000.0], [2870.0, 475000.0], [1190.0, 470000.0], [1810.0, 430000.0], [2410.0, 720000.0], [1230.0, 424000.0], [1920.0, 475000.0], [2510.0, 510000.0], [1400.0, 214950.0], [2340.0, 220000.0], [1270.0, 386000.0], [1060.0, 475000.0], [1540.0, 442500.0], [940.0, 500000.0], [1300.0, 267000.0], [1800.0, 325000.0], [1600.0, 427000.0], [610.0, 400000.0], [1610.0, 925000.0], [1960.0, 724950.0], [2240.0, 495000.0], [2170.0, 765000.0], [1670.0, 335000.0], [2700.0, 565000.0], [4010.0, 1735000.0], [2810.0, 531155.0], [2130.0, 260000.0], [2510.0, 660000.0], [1610.0, 280000.0], [2130.0, 370000.0], [880.0, 615000.0], [2900.0, 720000.0], [4350.0, 472000.0], [640.0, 110000.0], [1400.0, 233000.0], [1900.0, 250000.0], [2130.0, 1300000.0], [2030.0, 471000.0], [2410.0, 379000.0], [4110.0, 1450000.0], [1340.0, 230000.0], [910.0, 425000.0], [1798.0, 199900.0], [3560.0, 896000.0], [1200.0, 190000.0], [1800.0, 408474.0], [1740.0, 204950.0], [1780.0, 615000.0], [2380.0, 699800.0], [3065.0, 729000.0], [2450.0, 1550000.0], [2120.0, 530000.0], [2340.0, 700000.0], [1440.0, 330000.0], [3330.0, 850000.0], [2620.0, 635000.0], [2665.0, 340000.0], [1780.0, 1000000.0], [3140.0, 400000.0], [2450.0, 619420.0], [1730.0, 257000.0], [2890.0, 855000.0], [1230.0, 569000.0], [1280.0, 650000.0], [1740.0, 645000.0], [1760.0, 314950.0], [2470.0, 609000.0], [1740.0, 445000.0], [1200.0, 361000.0], [2070.0, 560000.0], [1150.0, 325000.0], [2170.0, 555000.0], [860.0, 345000.0], [2260.0, 610000.0], [1320.0, 185000.0], [3720.0, 980000.0], [2100.0, 499900.0], [1510.0, 415000.0], [1310.0, 237950.0], [2180.0, 650000.0], [1220.0, 280000.0], [1140.0, 480000.0], [2590.0, 570000.0], [1780.0, 420000.0], [2980.0, 750000.0], [1010.0, 470450.0], [5780.0, 2890000.0], [3290.0, 965000.0], [1120.0, 205000.0], [1160.0, 210000.0], [1730.0, 800000.0], [2000.0, 273500.0], [2160.0, 590000.0], [2040.0, 1272500.0], [1250.0, 450000.0], [1847.0, 216000.0], [2540.0, 660000.0], [1630.0, 422120.0], [910.0, 100000.0], [1480.0, 360000.0], [2140.0, 362950.0], [4790.0, 818500.0], [2560.0, 518000.0], [1690.0, 430000.0], [2100.0, 515000.0], [2420.0, 1490000.0], [1900.0, 505000.0], [3080.0, 889950.0], [1480.0, 250000.0], [1300.0, 571500.0], [2840.0, 589410.0], [2450.0, 605000.0], [2740.0, 1157400.0], [3180.0, 1000000.0], [1250.0, 462000.0], [1660.0, 368000.0], [1600.0, 525000.0], [3230.0, 530000.0], [2200.0, 280000.0], [2290.0, 1058000.0], [1380.0, 740000.0], [680.0, 365000.0], [5020.0, 3600000.0], [1140.0, 356000.0], [2610.0, 659000.0], [1060.0, 174950.0], [1150.0, 129000.0], [1770.0, 350000.0], [2420.0, 598000.0], [2650.0, 370000.0], [4040.0, 1400000.0], [620.0, 255000.0], [2570.0, 1005000.0], [1650.0, 268000.0], [3830.0, 710000.0], [2400.0, 403500.0], [1340.0, 320000.0], [2730.0, 1338750.0], [2020.0, 458000.0], [1630.0, 650000.0], [1240.0, 345000.0], [1440.0, 267000.0], [1630.0, 497000.0], [2530.0, 380000.0], [1820.0, 415000.0], [2320.0, 525000.0], [1940.0, 375000.0], [1740.0, 410000.0], [1750.0, 477000.0], [2620.0, 749950.0], [1370.0, 405000.0], [1330.0, 235000.0], [1420.0, 278000.0], [2496.0, 661000.0], [960.0, 234000.0], [4210.0, 884744.0], [910.0, 565000.0], [940.0, 399000.0], [3290.0, 799000.0], [3570.0, 835000.0], [2100.0, 305000.0], [1820.0, 548500.0], [1040.0, 285650.0], [1010.0, 385000.0], [3300.0, 484000.0], [2020.0, 360000.0], [1760.0, 455000.0], [2950.0, 825750.0], [1660.0, 241000.0], [1730.0, 299000.0], [1110.0, 235000.0], [4910.0, 1544500.0], [1570.0, 430000.0], [2692.0, 436472.0], [3750.0, 1245000.0], [1780.0, 355000.0], [1740.0, 379000.0], [1490.0, 735000.0], [1560.0, 250000.0], [1400.0, 279000.0], [1990.0, 328000.0], [1680.0, 575000.0], [3206.0, 375000.0], [1510.0, 473000.0], [1995.0, 645000.0], [3790.0, 875000.0], [1180.0, 347500.0], [2040.0, 253000.0], [1250.0, 475000.0], [1050.0, 260000.0], [2130.0, 335000.0], [900.0, 225000.0], [2970.0, 499500.0], [2190.0, 730000.0], [1380.0, 335000.0], [4360.0, 795127.0], [2680.0, 460000.0], [1710.0, 340000.0], [1010.0, 200000.0], [1660.0, 305000.0], [2560.0, 619000.0], [1910.0, 247200.0], [2510.0, 479900.0], [940.0, 473000.0], [2190.0, 769950.0], [2230.0, 600000.0], [1810.0, 300000.0], [1380.0, 455000.0], [1130.0, 437000.0], [3760.0, 851000.0], [890.0, 391000.0], [1750.0, 394000.0], [1750.0, 410000.0], [2160.0, 1190000.0], [3300.0, 850000.0], [1910.0, 400000.0], [1410.0, 220000.0], [2980.0, 1155000.0], [750.0, 370000.0], [1670.0, 295000.0], [2780.0, 990000.0], [3080.0, 679000.0], [840.0, 270000.0], [2720.0, 632500.0], [2840.0, 870000.0], [1890.0, 425000.0], [1390.0, 686500.0], [2840.0, 425000.0], [1560.0, 299900.0], [2330.0, 891000.0], [2050.0, 530000.0], [1910.0, 240000.0], [1650.0, 580000.0], [3340.0, 1328000.0], [830.0, 394475.0], [1650.0, 370000.0], [3900.0, 1200000.0], [3310.0, 555000.0], [1850.0, 470000.0], [860.0, 390000.0], [1400.0, 343000.0], [1810.0, 515000.0], [2370.0, 369000.0], [3060.0, 465000.0], [2640.0, 790000.0], [1520.0, 369950.0], [4300.0, 1400000.0], [1580.0, 213550.0], [2790.0, 685100.0], [1540.0, 550000.0], [2150.0, 559500.0], [1890.0, 441000.0], [1200.0, 430000.0], [880.0, 406000.0], [1680.0, 625000.0], [1830.0, 360000.0], [2060.0, 575550.0], [1350.0, 275000.0], [2680.0, 779950.0], [1710.0, 380000.0], [3910.0, 470000.0], [1320.0, 475000.0], [1510.0, 360000.0], [1610.0, 735000.0], [2480.0, 325000.0], [2340.0, 645000.0], [2040.0, 545000.0], [1480.0, 511200.0], [1760.0, 608000.0], [2700.0, 426500.0], [1190.0, 469000.0], [2690.0, 311000.0], [1560.0, 335000.0], [1400.0, 285000.0], [1780.0, 631500.0], [3110.0, 751000.0], [910.0, 520000.0], [3680.0, 1600000.0], [2110.0, 315000.0], [2190.0, 334950.0], [1170.0, 252000.0], [1070.0, 219950.0], [1640.0, 465000.0], [1130.0, 182200.0], [1250.0, 170000.0], [1560.0, 430000.0], [2830.0, 1898000.0], [2340.0, 330000.0], [3220.0, 640000.0], [1830.0, 260000.0], [1100.0, 157500.0], [1120.0, 343000.0], [2040.0, 480000.0], [2910.0, 605000.0], [850.0, 294000.0]], \"columns\": [{\"dtype\": \"str\", \"name\": \"id\"}, {\"dtype\": \"datetime\", \"name\": \"date\"}, {\"dtype\": \"float\", \"name\": \"price\"}, {\"dtype\": \"float\", \"name\": \"bedrooms\"}, {\"dtype\": \"float\", \"name\": \"bathrooms\"}, {\"dtype\": \"float\", \"name\": \"sqft_living\"}, {\"dtype\": \"float\", \"name\": \"sqft_lot\"}, {\"dtype\": \"float\", \"name\": \"floors\"}, {\"dtype\": \"int\", \"name\": \"waterfront\"}, {\"dtype\": \"int\", \"name\": \"view\"}, {\"dtype\": \"int\", \"name\": \"condition\"}, {\"dtype\": \"float\", \"name\": \"grade\"}, {\"dtype\": \"float\", \"name\": \"sqft_above\"}, {\"dtype\": \"float\", \"name\": \"sqft_basement\"}, {\"dtype\": \"float\", \"name\": \"yr_built\"}, {\"dtype\": \"float\", \"name\": \"yr_renovated\"}, {\"dtype\": \"str\", \"name\": \"zipcode\"}, {\"dtype\": \"float\", \"name\": \"lat\"}, {\"dtype\": \"float\", \"name\": \"long\"}, {\"dtype\": \"float\", \"name\": \"sqft_living15\"}, {\"dtype\": \"float\", \"name\": \"sqft_lot15\"}]}, e);\n",
       "                });\n",
       "            })();\n",
       "        "
      ]
     },
     "metadata": {},
     "output_type": "display_data"
    }
   ],
   "source": [
    "graphlab.canvas.set_target('ipynb')\n",
    "sales.show(view = \"Scatter Plot\",x = 'sqft_living',y = 'price' )"
   ]
  },
  {
   "cell_type": "markdown",
   "metadata": {},
   "source": [
    "# Create simple regression Model to sqft living to price"
   ]
  },
  {
   "cell_type": "code",
   "execution_count": 6,
   "metadata": {
    "collapsed": true
   },
   "outputs": [],
   "source": [
    "train_data,test_data = sales.random_split(.8,seed = 0) #here we are using seed because random split will split data in any \n",
    "#random numbers assigning numbers to seed ensures that we use same spliting of data.\n"
   ]
  },
  {
   "cell_type": "markdown",
   "metadata": {},
   "source": [
    "## Build a Regression Model"
   ]
  },
  {
   "cell_type": "code",
   "execution_count": 7,
   "metadata": {
    "collapsed": false
   },
   "outputs": [
    {
     "name": "stdout",
     "output_type": "stream",
     "text": [
      "PROGRESS: Creating a validation set from 5 percent of training data. This may take a while.\n",
      "          You can set ``validation_set=None`` to disable validation tracking.\n",
      "\n"
     ]
    },
    {
     "data": {
      "text/html": [
       "<pre>Linear regression:</pre>"
      ],
      "text/plain": [
       "Linear regression:"
      ]
     },
     "metadata": {},
     "output_type": "display_data"
    },
    {
     "data": {
      "text/html": [
       "<pre>--------------------------------------------------------</pre>"
      ],
      "text/plain": [
       "--------------------------------------------------------"
      ]
     },
     "metadata": {},
     "output_type": "display_data"
    },
    {
     "data": {
      "text/html": [
       "<pre>Number of examples          : 16522</pre>"
      ],
      "text/plain": [
       "Number of examples          : 16522"
      ]
     },
     "metadata": {},
     "output_type": "display_data"
    },
    {
     "data": {
      "text/html": [
       "<pre>Number of features          : 1</pre>"
      ],
      "text/plain": [
       "Number of features          : 1"
      ]
     },
     "metadata": {},
     "output_type": "display_data"
    },
    {
     "data": {
      "text/html": [
       "<pre>Number of unpacked features : 1</pre>"
      ],
      "text/plain": [
       "Number of unpacked features : 1"
      ]
     },
     "metadata": {},
     "output_type": "display_data"
    },
    {
     "data": {
      "text/html": [
       "<pre>Number of coefficients    : 2</pre>"
      ],
      "text/plain": [
       "Number of coefficients    : 2"
      ]
     },
     "metadata": {},
     "output_type": "display_data"
    },
    {
     "data": {
      "text/html": [
       "<pre>Starting Newton Method</pre>"
      ],
      "text/plain": [
       "Starting Newton Method"
      ]
     },
     "metadata": {},
     "output_type": "display_data"
    },
    {
     "data": {
      "text/html": [
       "<pre>--------------------------------------------------------</pre>"
      ],
      "text/plain": [
       "--------------------------------------------------------"
      ]
     },
     "metadata": {},
     "output_type": "display_data"
    },
    {
     "data": {
      "text/html": [
       "<pre>+-----------+----------+--------------+--------------------+----------------------+---------------+-----------------+</pre>"
      ],
      "text/plain": [
       "+-----------+----------+--------------+--------------------+----------------------+---------------+-----------------+"
      ]
     },
     "metadata": {},
     "output_type": "display_data"
    },
    {
     "data": {
      "text/html": [
       "<pre>| Iteration | Passes   | Elapsed Time | Training-max_error | Validation-max_error | Training-rmse | Validation-rmse |</pre>"
      ],
      "text/plain": [
       "| Iteration | Passes   | Elapsed Time | Training-max_error | Validation-max_error | Training-rmse | Validation-rmse |"
      ]
     },
     "metadata": {},
     "output_type": "display_data"
    },
    {
     "data": {
      "text/html": [
       "<pre>+-----------+----------+--------------+--------------------+----------------------+---------------+-----------------+</pre>"
      ],
      "text/plain": [
       "+-----------+----------+--------------+--------------------+----------------------+---------------+-----------------+"
      ]
     },
     "metadata": {},
     "output_type": "display_data"
    },
    {
     "data": {
      "text/html": [
       "<pre>| 1         | 2        | 1.027706     | 4347310.988329     | 2292538.130602       | 263387.950357 | 254282.902731   |</pre>"
      ],
      "text/plain": [
       "| 1         | 2        | 1.027706     | 4347310.988329     | 2292538.130602       | 263387.950357 | 254282.902731   |"
      ]
     },
     "metadata": {},
     "output_type": "display_data"
    },
    {
     "data": {
      "text/html": [
       "<pre>+-----------+----------+--------------+--------------------+----------------------+---------------+-----------------+</pre>"
      ],
      "text/plain": [
       "+-----------+----------+--------------+--------------------+----------------------+---------------+-----------------+"
      ]
     },
     "metadata": {},
     "output_type": "display_data"
    },
    {
     "data": {
      "text/html": [
       "<pre>SUCCESS: Optimal solution found.</pre>"
      ],
      "text/plain": [
       "SUCCESS: Optimal solution found."
      ]
     },
     "metadata": {},
     "output_type": "display_data"
    },
    {
     "data": {
      "text/html": [
       "<pre></pre>"
      ],
      "text/plain": []
     },
     "metadata": {},
     "output_type": "display_data"
    }
   ],
   "source": [
    "sqft_model = graphlab.linear_regression.create(train_data,target='price',features=['sqft_living'])"
   ]
  },
  {
   "cell_type": "markdown",
   "metadata": {},
   "source": [
    "# Evaluate the test data"
   ]
  },
  {
   "cell_type": "code",
   "execution_count": 9,
   "metadata": {
    "collapsed": false
   },
   "outputs": [
    {
     "name": "stdout",
     "output_type": "stream",
     "text": [
      "543054.042563\n"
     ]
    }
   ],
   "source": [
    "print test_data['price'].mean()"
   ]
  },
  {
   "cell_type": "code",
   "execution_count": 11,
   "metadata": {
    "collapsed": false
   },
   "outputs": [
    {
     "name": "stdout",
     "output_type": "stream",
     "text": [
      "{'max_error': 4141743.80596035, 'rmse': 255190.2718606444}\n"
     ]
    }
   ],
   "source": [
    "print sqft_model.evaluate(test_data)"
   ]
  },
  {
   "cell_type": "markdown",
   "metadata": {},
   "source": [
    "# Visualizing Predictions"
   ]
  },
  {
   "cell_type": "code",
   "execution_count": 12,
   "metadata": {
    "collapsed": true
   },
   "outputs": [],
   "source": [
    "import matplotlib.pyplot as plt\n",
    "%matplotlib inline"
   ]
  },
  {
   "cell_type": "code",
   "execution_count": 17,
   "metadata": {
    "collapsed": false
   },
   "outputs": [
    {
     "data": {
      "text/plain": [
       "[<matplotlib.lines.Line2D at 0x1f849160>,\n",
       " <matplotlib.lines.Line2D at 0x1f849208>]"
      ]
     },
     "execution_count": 17,
     "metadata": {},
     "output_type": "execute_result"
    },
    {
     "data": {
      "image/png": "[encoded data removed]",
      "text/plain": [
       "<matplotlib.figure.Figure at 0x1502c390>"
      ]
     },
     "metadata": {},
     "output_type": "display_data"
    }
   ],
   "source": [
    "plt.plot(test_data['sqft_living'],test_data['price'],'.',\n",
    "         test_data['sqft_living'],sqft_model.predict(test_data),'-')"
   ]
  },
  {
   "cell_type": "code",
   "execution_count": null,
   "metadata": {
    "collapsed": true
   },
   "outputs": [],
   "source": []
  }
 ],
 "metadata": {
  "kernelspec": {
   "display_name": "Python 2",
   "language": "python",
   "name": "python2"
  },
  "language_info": {
   "codemirror_mode": {
    "name": "ipython",
    "version": 2
   },
   "file_extension": ".py",
   "mimetype": "text/x-python",
   "name": "python",
   "nbconvert_exporter": "python",
   "pygments_lexer": "ipython2",
   "version": "2.7.13"
  }
 },
 "nbformat": 4,
 "nbformat_minor": 0
}
